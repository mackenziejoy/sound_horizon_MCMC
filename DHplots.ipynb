{
 "cells": [
  {
   "cell_type": "code",
   "execution_count": 1,
   "metadata": {},
   "outputs": [],
   "source": [
    "import matplotlib.pyplot as plt\n",
    "import numpy as np\n",
    "import scipy as sp\n",
    "from scipy.interpolate import *\n",
    "from scipy.integrate import quad\n",
    "%matplotlib inline"
   ]
  },
  {
   "cell_type": "code",
   "execution_count": 2,
   "metadata": {},
   "outputs": [],
   "source": [
    "params = {\n",
    "    'text.latex.preamble': ['\\\\usepackage{gensymb}'],\n",
    "    'image.origin': 'lower',\n",
    "    'image.interpolation': 'nearest',\n",
    "    'image.cmap': 'viridis',\n",
    "    'axes.grid': False,\n",
    "    'savefig.dpi': 30000,  # to adjust notebook inline plot size\n",
    "    'axes.labelsize': 15, # fontsize for x and y labels (was 10)\n",
    "    'axes.titlesize': 16,\n",
    "    'font.size': 12, # was 10\n",
    "    'legend.fontsize': 14, # was 10\n",
    "    'xtick.labelsize': 12,\n",
    "    'ytick.labelsize': 12,\n",
    "    'text.usetex': True,\n",
    "    #'figure.figsize': [3.39, 2.10],\n",
    "    'figure.figsize': [6.39, 5.10],\n",
    "    'font.family': 'serif',\n",
    "}"
   ]
  },
  {
   "cell_type": "code",
   "execution_count": 3,
   "metadata": {},
   "outputs": [],
   "source": [
    "plt.rcParams.update(params)"
   ]
  },
  {
   "cell_type": "code",
   "execution_count": 4,
   "metadata": {},
   "outputs": [],
   "source": [
    "k=8.62*10**(-5) #Boltzmann constant (eV/K)\n",
    "hp=4.136*10**(-15) #Planck constant (eV*s)\n",
    "Tg=2.73 #CMB photon temperature (K)\n",
    "c=2.998e8 #speed of light (m/s)\n",
    "mn=0.02/(c**2) #neutrino mass (eV/c^2)\n",
    "L=mn*c**2/(k*Tg*(4/11)**(1/3))\n",
    "h=0.72 #hubble\n",
    "p0=1.88*h**2*10**(-26)*1.783*10**36 #current critical energy density\n",
    "wr=5*10**(-5) #radiation\n",
    "wm=.29601976\n",
    "alphaBAO=.2968737\n",
    "rfid=147.78\n",
    "rsBAO=137.5"
   ]
  },
  {
   "cell_type": "code",
   "execution_count": 5,
   "metadata": {},
   "outputs": [],
   "source": [
    "def wn(z):\n",
    "    def n_integrand(x,z):\n",
    "        return x**2*np.sqrt((1/(1+z))**2+x**2)/(np.exp(x*L)+1)\n",
    "    n=quad(n_integrand,0,np.inf,args=(z))\n",
    "    return n[0]*((3*c**5*mn**4)*(1/(1+z))**(-4)*p0**(-1)*(np.pi)**(-2)*hp**(-3))"
   ]
  },
  {
   "cell_type": "code",
   "execution_count": 6,
   "metadata": {},
   "outputs": [],
   "source": [
    "be=np.loadtxt(\"BAO_consensus_covtot_dM_Hz.txt\")\n",
    "co=([be[0,0],be[0,2],be[0,4]],[be[2,0],be[2,2],be[2,4]],[be[4,0],be[4,2],be[4,4]])\n",
    "errors=np.sqrt(np.diag(co))"
   ]
  },
  {
   "cell_type": "code",
   "execution_count": 7,
   "metadata": {},
   "outputs": [
    {
     "name": "stderr",
     "output_type": "stream",
     "text": [
      "/nfs/home/mjoy/myVE/lib/python3.4/site-packages/ipykernel_launcher.py:3: RuntimeWarning: overflow encountered in exp\n",
      "  This is separate from the ipykernel package so we can avoid doing imports until\n"
     ]
    },
    {
     "name": "stdout",
     "output_type": "stream",
     "text": [
      "10719.75376998813\n"
     ]
    }
   ],
   "source": [
    "zgridwn=np.arange(.01,1,.01)\n",
    "wngrid=np.array([])\n",
    "for i in range(len(zgridwn)):\n",
    "    wngrid=np.append(wngrid,wn(zgridwn[i]))\n",
    "wn_cs=sp.interpolate.CubicSpline(zgridwn,wngrid)\n",
    "def integrand(x,wm,wr,wn_cs):\n",
    "    return 1/(np.sqrt(wm*x+(1-wm-wr-wn_cs((1/x)-1))*x**4+wr+wn_cs((1/x)-1)))\n",
    "rs=138.3\n",
    "rs2=180\n",
    "def D(z):\n",
    "    return quad(integrand,1/(1+z),1,args=(wm,wr,wn_cs))[0]*alphaBAO*100*rs\n",
    "print(D(1090.05))\n",
    "zgrid0=np.arange(0,.1,.001)\n",
    "zgrid1=np.arange(.1,3,.1)\n",
    "zgrid2=np.arange(4,1100,1)\n",
    "zgrid=list(zgrid0)+list(zgrid1)+list(zgrid2)\n",
    "Dgrid=np.array([])\n",
    "for i in range(len(zgrid)):\n",
    "    Dnew=D(zgrid[i])\n",
    "    Dgrid=np.append(Dgrid,Dnew)\n",
    "#Dgrid2=Dgrid/rs*rs2\n",
    "zdata=[0.38,0.51,0.61]\n",
    "Dzdata=np.array([1512.39,1975.22,2306.68])*rsBAO/rfid\n",
    "#Dzdata2=Dzdata/rs*rs2\n",
    "Dzdataguess=np.array([])\n",
    "for i in range(len(zdata)):\n",
    "    Dzdataguess=np.append(Dzdataguess,D(zdata[i]))\n",
    "residuals=Dzdata/Dzdataguess-1\n",
    "#Dzdataguess2=np.array([])\n",
    "#for i in range(len(zdata)):\n",
    "#    Dzdataguess2=np.append(Dzdataguess2,(D(zdata[i])/rs*rs2))\n",
    "#residuals2=Dzdata2/Dzdataguess2-0.8"
   ]
  },
  {
   "cell_type": "code",
   "execution_count": 8,
   "metadata": {},
   "outputs": [],
   "source": [
    "zSN=np.loadtxt(\"z_SN.txt\")\n",
    "zSN=np.array(zSN)\n",
    "mb=np.loadtxt('mb_SN.txt')\n",
    "alphaSN=.36437156*10000\n",
    "D_SNgrid=np.array([])\n",
    "for i in range(len(zSN)):\n",
    "    #D=(1+zSN[i])**(-1)*alphaSN**(-1)*10**(((mb[i])-6)/5)*rs*alphaBAO*100\n",
    "    D=(1+zSN[i])**(-1)*10**((mb[i]-6+0.25)/5)\n",
    "    D_SNgrid=np.append(D_SNgrid,D)"
   ]
  },
  {
   "cell_type": "code",
   "execution_count": 9,
   "metadata": {},
   "outputs": [],
   "source": [
    "DzdataguessSN=np.array([])\n",
    "def D(z):\n",
    "    return quad(integrand,1/(1+z),1,args=(wm,wr,wn_cs))[0]*alphaBAO*100*rs\n",
    "for i in range(len(zSN)):\n",
    "    z2=zSN[i]\n",
    "    DzdataguessSN=np.append(DzdataguessSN,(D(z2)))\n",
    "SNresiduals=D_SNgrid/DzdataguessSN-1"
   ]
  },
  {
   "cell_type": "code",
   "execution_count": 10,
   "metadata": {},
   "outputs": [
    {
     "name": "stdout",
     "output_type": "stream",
     "text": [
      "[0.0377122  0.03865285 0.02739151 0.02769531 0.03545092 0.04249282\n",
      " 0.03796581 0.04612554 0.04385787 0.05116896 0.03738546 0.03673122\n",
      " 0.03503473 0.02688206 0.02850881 0.0250857  0.02594581 0.02828599\n",
      " 0.02224101 0.0231965  0.02401926 0.02468481 0.0236307  0.02111676\n",
      " 0.02323263 0.02259071 0.02230202 0.0248995  0.02525139 0.03343692\n",
      " 0.02888979 0.0303341  0.03222658 0.02817925 0.03553463 0.03085839\n",
      " 0.03293175 0.03693555 0.07551839 0.09503105]\n"
     ]
    }
   ],
   "source": [
    "mbdata=np.loadtxt(\"mb_SN.txt\")\n",
    "dmbdata=np.loadtxt(\"dmb_SN.txt\")\n",
    "Csys=np.loadtxt(\"SNe_Csys.txt\")\n",
    "Csys=np.array(Csys)\n",
    "shape=(40,40)\n",
    "Csys=Csys.reshape(shape) #systematic error covariance matrix\n",
    "Cstat=np.zeros((40,40))\n",
    "k=0\n",
    "j=0\n",
    "while k<40 and j<40:\n",
    "    Cstat[k,j]=(dmbdata[k])**2 #statistical covariance matrix for SN data\n",
    "    k=k+1\n",
    "    j=j+1\n",
    "C_SN=Cstat+Csys\n",
    "SNerrors=np.sqrt(np.diag(C_SN))\n",
    "print(SNerrors)"
   ]
  },
  {
   "cell_type": "code",
   "execution_count": 11,
   "metadata": {},
   "outputs": [],
   "source": [
    "#nonparametric D(z)\n",
    "zspline=[0,.2,.57,.8,1.3]\n",
    "H0=73.52427454613752\n",
    "Hz1=79.92931359719891\n",
    "Hz2=100.79532187160518\n",
    "Hz3=115.13102044936265\n",
    "Hz4=177.71389742046352\n",
    "alphaBAOnon=0.29476623274200864\n",
    "alphaSNnon=0.361546946403282*10000\n",
    "lsn=1.127810627199550\n",
    "Hzspline=[1,Hz1/H0,Hz2/H0,Hz3/H0,Hz4/H0]\n",
    "Hz_cs=sp.interpolate.CubicSpline(zspline,Hzspline)\n",
    "def integrandH(z,Hz_cs):\n",
    "    return 1/Hz_cs(z)\n",
    "Dznonpar=np.array([])\n",
    "zgrid=np.array(zgrid)\n",
    "for i in range(len(zgrid)):\n",
    "    #Dznonpar=np.append(Dznonpar,alphaBAOnon*100*rs*quad(integrandH,0,zgrid[i],args=(Hz_cs))[0])\n",
    "    Dznonpar=np.append(Dznonpar,alphaSNnon*lsn*quad(integrandH,0,zgrid[i],args=(Hz_cs))[0])\n",
    "Dzdataguessnonpar=np.array([])\n",
    "for i in range(len(zdata)):\n",
    "    Dzdataguessnonpar=np.append(Dzdataguessnonpar,alphaBAOnon*100*rs*quad(integrandH,0,zdata[i],args=(Hz_cs))[0])\n",
    "BAOresidnonpar=Dzdata/Dzdataguessnonpar-1\n",
    "SNdataguessnonpar=np.array([])\n",
    "for i in range(len(zSN)):\n",
    "    SNdataguessnonpar=np.append(SNdataguessnonpar,alphaBAOnon*100*rs*quad(integrandH,0,zSN[i],args=(Hz_cs))[0])\n",
    "SNresidnonpar=D_SNgrid/SNdataguessnonpar-1\n",
    "SNrealerrors=SNerrors*c/1000/H0/(alphaSNnon)/(1+zSN)/5*np.log(10)*10**(mbdata/5-6/5)"
   ]
  },
  {
   "cell_type": "code",
   "execution_count": 22,
   "metadata": {},
   "outputs": [
    {
     "name": "stderr",
     "output_type": "stream",
     "text": [
      "/nfs/home/mjoy/myVE/lib/python3.4/site-packages/ipykernel_launcher.py:21: RuntimeWarning: invalid value encountered in true_divide\n"
     ]
    },
    {
     "name": "stdout",
     "output_type": "stream",
     "text": [
      "[24.99413931 30.09612932 37.08261048]\n"
     ]
    },
    {
     "data": {
      "image/png": "[encoded data removed]",
      "text/plain": [
       "<Figure size 460.08x367.2 with 2 Axes>"
      ]
     },
     "metadata": {},
     "output_type": "display_data"
    }
   ],
   "source": [
    "fig, (ax1, ax2) = plt.subplots(2,sharex=True)#,sharey=True)\n",
    "ax1.plot(zgrid,Dgrid,label='$\\Lambda$CDM',color='b')\n",
    "ax1.plot(zgrid,Dznonpar,label='Spline',color='orange')\n",
    "ax1.scatter(zdata,Dzdata,label='BAO, $r_s$=138.3 Mpc',color='r',marker='x',s=50)\n",
    "ax1.scatter(zSN,D_SNgrid,label='SNe, M=-19.26',color='g')\n",
    "#ax1.scatter(1090.05,rs/.0104096,color='m')\n",
    "ax1.errorbar(zdata,Dzdata,yerr=10*errors*rs/rfid,linestyle='None',color='r',zorder=-100)\n",
    "ax1.errorbar(zSN,D_SNgrid,yerr=10*SNrealerrors,linestyle='None',color='g')\n",
    "#ax1.errorbar(1090.05,14196.5109*rs,yerr=.00071/.0104096**2*rs,linestyle='None',color='m')\n",
    "ax1.legend()\n",
    "ax1.set(ylabel='$D_A$(z) [Mpc]')\n",
    "zdata=np.array(zdata)\n",
    "ax2.scatter(zdata,residuals,color='r')\n",
    "ax2.errorbar(zdata,residuals,yerr=errors/Dzdataguess*rsBAO/rfid,linestyle='None',\n",
    "             marker='s',color='r')\n",
    "ax2.scatter(zSN,SNresiduals,label='SNe',color='g')\n",
    "ax2.errorbar(zSN,SNresiduals,yerr=SNrealerrors/DzdataguessSN,linestyle='None',color='g')\n",
    "#ax2.scatter(1090.05,(14196.5109*rs/rfid)/10635.619992777569-1,color='m')\n",
    "#ax2.errorbar(1090.05,(14196.5109*rs/rfid)/10635.619992777569-1,yerr=.00071/.0104096**2*(rs)/1559415.6053502439,linestyle='None',color='m')\n",
    "#ax2.axhline(y=0.2,color='b')\n",
    "ax2.plot(zgrid,Dznonpar/Dgrid-1,color='orange')\n",
    "#ax2.scatter(zdata,BAOresidnonpar,color='r')\n",
    "#ax2.errorbar(zdata,BAOresidnonpar,yerr=errors/Dzdataguessnonpar*rs/rfid,linestyle='None',color='r')\n",
    "#ax2.scatter(zSN,SNresidnonpar,color='g')\n",
    "#ax2.errorbar(zSN,SNresidnonpar,yerr=SNrealerrors/SNdataguessnonpar,linestyle='None',color='g')\n",
    "ax2.axhline(y=0,color='b')\n",
    "ax2.set(ylabel='$\\Delta D(z)/D_{A,\\Lambda{\\mathrm CDM}}(z)$')\n",
    "ax2.set(ylim=(-.06,.05))\n",
    "ax2.set(xlim=(1.05e-2,2))\n",
    "plt.xlabel('z',size=15)\n",
    "plt.xscale('log')\n",
    "fig.subplots_adjust(hspace=0)\n",
    "print(errors)"
   ]
  },
  {
   "cell_type": "code",
   "execution_count": 13,
   "metadata": {},
   "outputs": [
    {
     "name": "stdout",
     "output_type": "stream",
     "text": [
      "[2.36827574 2.32879153 2.5018713 ]\n"
     ]
    }
   ],
   "source": [
    "#H(z)\n",
    "zgrid4H=np.arange(0,1,0.0001)\n",
    "Hvalsnonpar=np.array([])\n",
    "for i in range(len(zgrid4H)):\n",
    "    Hvalsnonpar=np.append(Hvalsnonpar,H0*Hz_cs(zgrid4H[i]))\n",
    "HvalsLCDM=np.array([])\n",
    "for i in range(len(zgrid4H)):\n",
    "    x=1/(1+zgrid4H[i])\n",
    "    HvalsLCDM=np.append(HvalsLCDM,H0*\n",
    "                        (np.sqrt(wm*x**(-3)+\n",
    "                        (1-wm-wr-wn_cs((1/x)-1))\n",
    "                        +wr*x**(-4)+wn_cs((1/x)-1))))\n",
    "Hzdata=np.array([81.2087,90.9029,98.9647])*rfid/rsBAO\n",
    "hco=([be[1,1],be[1,3],be[1,5]],[be[3,1],be[3,3],be[3,5]],[be[5,1],be[5,3],be[5,5]])\n",
    "Herrors=np.sqrt(np.diag(hco))\n",
    "print(Herrors)\n",
    "Hguess=np.array([])\n",
    "for i in range(len(zdata)):\n",
    "    x=1/(1+zdata[i])\n",
    "    Hguess=np.append(Hguess,H0*\n",
    "                        (np.sqrt(wm*x**(-3)+\n",
    "                        (1-wm-wr-wn_cs((1/x)-1))\n",
    "                        +wr*x**(-4)+wn_cs((1/x)-1))))\n",
    "Hresiduals=Hzdata/Hguess-1"
   ]
  },
  {
   "cell_type": "code",
   "execution_count": 14,
   "metadata": {},
   "outputs": [
    {
     "data": {
      "text/plain": [
       "(70, 115)"
      ]
     },
     "execution_count": 14,
     "metadata": {},
     "output_type": "execute_result"
    },
    {
     "data": {
      "image/png": "[encoded data removed]",
      "text/plain": [
       "<Figure size 460.08x367.2 with 1 Axes>"
      ]
     },
     "metadata": {},
     "output_type": "display_data"
    }
   ],
   "source": [
    "#fig, (ax1) = plt.subplots(1,sharex=True)#,sharey=True)\n",
    "plt.figure(10)\n",
    "plt.plot(zgrid4H,HvalsLCDM,label='$\\Lambda$CDM',color='b')\n",
    "plt.plot(zgrid4H,Hvalsnonpar,label='Spline',color='orange')\n",
    "plt.scatter(zdata,Hzdata,label='BAO, $r_s$=138.3 Mpc',color='r',marker='s',s=30)\n",
    "plt.errorbar(zdata,Hzdata,yerr=Herrors*rfid/rsBAO,linestyle='None',color='r')\n",
    "plt.scatter(0,73.52,label='R18',s=60)\n",
    "plt.errorbar(0,73.52,yerr=1.62,linestyle='None')\n",
    "plt.legend(loc=4)\n",
    "plt.ylabel('H(z) [km/sec/Mpc]')\n",
    "#zdata=np.array(zdata)\n",
    "#ax2.scatter(zdata,Hresiduals,color='r',marker='s',s=50)\n",
    "#ax2.errorbar(zdata,Hresiduals,yerr=Herrors*rfid/rs/Hguess,linestyle='None',color='r')\n",
    "#ax2.plot(zgrid4H,Hvalsnonpar/HvalsLCDM-1,color='orange')\n",
    "#ax2.axhline(y=0,color='b')\n",
    "#ax2.set(ylabel='Residuals')\n",
    "plt.xlabel('z',size=15)\n",
    "plt.xlim((-0.01,1))\n",
    "plt.ylim((70,115))\n",
    "#plt.tight_layout()"
   ]
  },
  {
   "cell_type": "code",
   "execution_count": null,
   "metadata": {},
   "outputs": [],
   "source": []
  }
 ],
 "metadata": {
  "kernelspec": {
   "display_name": "Python 3",
   "language": "python",
   "name": "python3"
  },
  "language_info": {
   "codemirror_mode": {
    "name": "ipython",
    "version": 3
   },
   "file_extension": ".py",
   "mimetype": "text/x-python",
   "name": "python",
   "nbconvert_exporter": "python",
   "pygments_lexer": "ipython3",
   "version": "3.4.3"
  }
 },
 "nbformat": 4,
 "nbformat_minor": 2
}
