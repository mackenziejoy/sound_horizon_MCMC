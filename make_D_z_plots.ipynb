{
 "cells": [
  {
   "cell_type": "markdown",
   "metadata": {},
   "source": [
    "# Load modules "
   ]
  },
  {
   "cell_type": "code",
   "execution_count": 1,
   "metadata": {},
   "outputs": [],
   "source": [
    "import matplotlib.pyplot as plt\n",
    "import numpy as np\n",
    "import scipy as sp\n",
    "from scipy.interpolate import *\n",
    "from scipy.integrate import quad\n",
    "from cosmoslik import *"
   ]
  },
  {
   "cell_type": "markdown",
   "metadata": {},
   "source": [
    "# Constants "
   ]
  },
  {
   "cell_type": "code",
   "execution_count": 2,
   "metadata": {},
   "outputs": [],
   "source": [
    "c=2.998e8 #speed of light (m/s)\n",
    "rfid=147.78"
   ]
  },
  {
   "cell_type": "markdown",
   "metadata": {},
   "source": [
    "# Load chains "
   ]
  },
  {
   "cell_type": "code",
   "execution_count": 3,
   "metadata": {},
   "outputs": [],
   "source": [
    "def derived_params(chain):\n",
    "    chain['rs'] = c*10**-5/chain['H0']/chain['alphaBAO']\n",
    "    chain['lsn'] = c*10**-7/chain['H0']/chain['alphaSN']\n",
    "    chain['M'] = -5*np.log10(chain['lsn'])-19\n",
    "    return chain\n",
    "lcdm_chain = derived_params(chains.load_chain('LBAOSN.chain').burnin(5000).join())\n",
    "npar_chain = derived_params(chains.load_chain('LBAOSNnonpar.chain').burnin(5000).join())"
   ]
  },
  {
   "cell_type": "markdown",
   "metadata": {},
   "source": [
    "# Create Class for calculating D(z) under LCDM"
   ]
  },
  {
   "cell_type": "code",
   "execution_count": 4,
   "metadata": {},
   "outputs": [],
   "source": [
    "class LCDM_D_z(object):\n",
    "    def __init__(self):\n",
    "        k=8.62*10**(-5) #Boltzmann constant (eV/K)\n",
    "        Tg=2.73 #CMB photon temperature (K)\n",
    "        h=0.72 #hubble\n",
    "        self.mn=0.02/(c**2) #neutrino mass (eV/c^2)\n",
    "        self.hp=4.136*10**(-15) #Planck constant (eV*s)\n",
    "        self.L = self.mn*c**2/(k*Tg*(4/11)**(1/3))\n",
    "        self.p0=1.88*h**2*10**(-26)*1.783*10**36 #current critical energy density\n",
    "        zgrid4_omega_n=np.arange(.01,1,.01)\n",
    "        omega_ngrid=np.array([self.omega_n(z) for z in zgrid4_omega_n])\n",
    "        self.omega_n_z=sp.interpolate.CubicSpline(zgrid4_omega_n,omega_ngrid)\n",
    "        self.omega_m=lcdm_chain.best_fit()['wm']\n",
    "        self.omega_r=5*10**(-5)\n",
    "        \n",
    "    def omega_n(self,z):\n",
    "        n_integrand = lambda x,z: x**2*np.sqrt((1/(1+z))**2+x**2)/(np.exp(x*self.L)+1)\n",
    "        n=quad(n_integrand,0,np.inf,args=(z))\n",
    "        return n[0]*((3*c**5*self.mn**4)*(1/(1+z))**(-4)*self.p0**(-1)*(np.pi)**(-2)*self.hp**(-3))\n",
    "    \n",
    "    def H0_over_H(self,z): \n",
    "        wm=self.omega_m\n",
    "        wr=self.omega_r\n",
    "        wn=self.omega_n_z\n",
    "        return 1/(np.sqrt(wm*(1+z)**3+(1-wm-wr-wn(z))+wr*(1+z)**4+wn(z)))\n",
    "    \n",
    "    def __call__(self,z):\n",
    "        rs=lcdm_chain.best_fit()['rs']\n",
    "        alphaBAO = lcdm_chain.best_fit()['alphaBAO']\n",
    "        return quad(self.H0_over_H,0,z)[0]*alphaBAO*100*rs"
   ]
  },
  {
   "cell_type": "markdown",
   "metadata": {},
   "source": [
    "# Initialize Class to get function for calculating angular diameter distance DA_z "
   ]
  },
  {
   "cell_type": "code",
   "execution_count": 5,
   "metadata": {},
   "outputs": [
    {
     "name": "stderr",
     "output_type": "stream",
     "text": [
      "/nfs/home/kmaylor/.virtualenvs/Planck_and_SPTSZ_combo/lib/python3.4/site-packages/ipykernel_launcher.py:17: RuntimeWarning: overflow encountered in exp\n"
     ]
    }
   ],
   "source": [
    "DA_z = LCDM_D_z()\n"
   ]
  },
  {
   "cell_type": "markdown",
   "metadata": {},
   "source": [
    "# LCDM model of D(z) (blue curve in fig 1) "
   ]
  },
  {
   "cell_type": "code",
   "execution_count": 6,
   "metadata": {},
   "outputs": [],
   "source": [
    "# zgrid and Dgrid are used later\n",
    "zgrid0=np.arange(0,.1,.001)\n",
    "zgrid1=np.arange(.1,3,.1)\n",
    "zgrid2=np.arange(4,1100,1)\n",
    "zgrid=list(zgrid0)+list(zgrid1)+list(zgrid2)\n",
    "\n",
    "D_LCDMmodel=np.array([DA_z(z) for z in zgrid])\n",
    "\n"
   ]
  },
  {
   "cell_type": "markdown",
   "metadata": {},
   "source": [
    "# BAO data, lcdm model, and residuals "
   ]
  },
  {
   "cell_type": "code",
   "execution_count": 7,
   "metadata": {},
   "outputs": [],
   "source": [
    "# D and z from BAO\n",
    "zBAO=np.array([0.38,0.51,0.61])\n",
    "DzBAO_data=np.array([1512.39,1975.22,2306.68])*npar_chain.best_fit()['rs']/rfid\n",
    "\n",
    "#use lcdm model to get D(z) for same values as BAO\n",
    "DzBAO_LCDMmodel=np.array([DA_z(z) for z in zBAO])\n",
    "\n",
    "#residuals for BAO and lcdm D(z)\n",
    "BAO_LCDMresiduals=DzBAO_data/DzBAO_LCDMmodel-1"
   ]
  },
  {
   "cell_type": "markdown",
   "metadata": {},
   "source": [
    "# BAO errors "
   ]
  },
  {
   "cell_type": "code",
   "execution_count": 8,
   "metadata": {},
   "outputs": [],
   "source": [
    "BAO_dM_Hz_cov=np.loadtxt(\"BAO_consensus_covtot_dM_Hz.txt\")\n",
    "BAO_dM_cov=BAO_dM_Hz_cov[0::2,0::2]\n",
    "DzBAO_errors=np.sqrt(np.diag(BAO_dM_cov))*npar_chain.best_fit()['rs']/rfid\n"
   ]
  },
  {
   "cell_type": "markdown",
   "metadata": {},
   "source": [
    "# Non parametric model of D(z) (orange curve in fig 1)"
   ]
  },
  {
   "cell_type": "code",
   "execution_count": 9,
   "metadata": {},
   "outputs": [],
   "source": [
    "#nonparametric D(z)\n",
    "zspline=[0,.2,.57,.8,1.3]\n",
    "H0=npar_chain.best_fit()['H0']\n",
    "Hz1=npar_chain.best_fit()['Hz1']\n",
    "Hz2=npar_chain.best_fit()['Hz2']\n",
    "Hz3=npar_chain.best_fit()['Hz3']\n",
    "Hz4=npar_chain.best_fit()['Hz4']\n",
    "#alphaBAOnon=npar_chain.best_fit()['alphaBAO']\n",
    "alphaSNnon=npar_chain.best_fit()['alphaSN']*10000\n",
    "lsn=npar_chain.best_fit()['lsn']\n",
    "rs = npar_chain.best_fit()['rs']\n",
    "M = npar_chain.best_fit()['M']\n",
    "\n",
    "Hzspline=[1,Hz1/H0,Hz2/H0,Hz3/H0,Hz4/H0]\n",
    "H_zspline=sp.interpolate.CubicSpline(zspline,Hzspline)\n",
    "\n",
    "def integrandH(z,H_zspline):\n",
    "    return 1/H_zspline(z)\n",
    "\n",
    "Dz_nonpar_model=np.array([alphaSNnon*lsn*quad(integrandH,0,z,args=(H_zspline))[0] for z in zgrid])\n",
    "\n",
    "#DzBAO_nonpar_model=np.array([alphaBAOnon*100*rs*quad(integrandH,0,z,args=(H_z))[0] for z in zdata])\n",
    "\n",
    "#BAO_nonpar_residuals=DzBAO_data/DzBAO_nonpar_model-1\n",
    "\n",
    "#DzSN_nonpar_model=np.array([alphaSNnon*lsn*quad(integrandH,0,z,args=(H_z))[0] for z in zSN])\n",
    "\n",
    "#SNresidnonpar=DzSN_data/DzSN_nonpar_model-1\n",
    "\n",
    "\n"
   ]
  },
  {
   "cell_type": "markdown",
   "metadata": {},
   "source": [
    "# SNe data, lcdm model, and residuals "
   ]
  },
  {
   "cell_type": "code",
   "execution_count": 10,
   "metadata": {},
   "outputs": [],
   "source": [
    "zSN=np.loadtxt(\"z_SN.txt\")\n",
    "mb=np.loadtxt('mb_SN.txt')\n",
    "DzSN_data=(1+zSN)**(-1)*10**((mb-25-npar_chain.best_fit()['M'])/5) \n",
    "DzSN_LCDMmodel=np.array([DA_z(z) for z in zSN])\n",
    "SN_LCDMresiduals=DzSN_data/DzSN_LCDMmodel-1"
   ]
  },
  {
   "cell_type": "markdown",
   "metadata": {},
   "source": [
    "# SNe errors "
   ]
  },
  {
   "cell_type": "code",
   "execution_count": 11,
   "metadata": {},
   "outputs": [],
   "source": [
    "dmbdata=np.loadtxt(\"dmb_SN.txt\")\n",
    "Csys=np.loadtxt(\"SNe_Csys.txt\").reshape((40,40))\n",
    "Cstat=np.diag(dmbdata**2) #statistical covariance matrix for SN data\n",
    "SNcovariance=Cstat+Csys\n",
    "SNerrors=np.sqrt(np.diag(SNcovariance))\n",
    "DzSN_errors=SNerrors*c/1000/H0/(alphaSNnon)/(1+zSN)/5*np.log(10)*10**((mb-25-M)/5)"
   ]
  },
  {
   "cell_type": "code",
   "execution_count": 12,
   "metadata": {},
   "outputs": [],
   "source": [
    "params = {\n",
    "    'text.latex.preamble': ['\\\\usepackage{gensymb}'],\n",
    "    'image.origin': 'lower',\n",
    "    'image.interpolation': 'nearest',\n",
    "    'image.cmap': 'viridis',\n",
    "    'axes.grid': False,\n",
    "    'savefig.dpi': 100000.,  # to adjust notebook inline plot size\n",
    "    'axes.labelsize': 15, # fontsize for x and y labels (was 10)\n",
    "    'axes.titlesize': 16,\n",
    "    'font.size': 12, # was 10\n",
    "    'legend.fontsize': 14, # was 10\n",
    "    'xtick.labelsize': 14,\n",
    "    'ytick.labelsize': 14,\n",
    "    'text.usetex': True,\n",
    "    #'figure.figsize': [3.39, 2.10],\n",
    "    'figure.figsize': [6.39, 5.10],\n",
    "    'font.family': 'serif',\n",
    "}\n",
    "\n",
    "plt.rcParams.update(params)\n",
    "\n"
   ]
  },
  {
   "cell_type": "code",
   "execution_count": 13,
   "metadata": {},
   "outputs": [
    {
     "name": "stderr",
     "output_type": "stream",
     "text": [
      "/nfs/home/kmaylor/.virtualenvs/Planck_and_SPTSZ_combo/lib/python3.4/site-packages/ipykernel_launcher.py:14: RuntimeWarning: invalid value encountered in true_divide\n",
      "  \n"
     ]
    },
    {
     "data": {
      "image/png": "[encoded data removed]",
      "text/plain": [
       "<matplotlib.figure.Figure at 0x7fc9902d25f8>"
      ]
     },
     "metadata": {},
     "output_type": "display_data"
    }
   ],
   "source": [
    "fig, (ax1, ax2) = plt.subplots(2,sharex=True)\n",
    "ax1.plot(zgrid,D_LCDMmodel,label='$\\Lambda$CDM',color='b')\n",
    "ax1.plot(zgrid,Dz_nonpar_model,label='Spline',color='orange')\n",
    "ax1.errorbar(zBAO,DzBAO_data,yerr=10*DzBAO_errors,label='BAO, $r_s$='+str(np.round(npar_chain.best_fit()['rs'],decimals=2))+' Mpc',fmt='sr',ms=7)\n",
    "ax1.errorbar(zSN,DzSN_data,yerr=10*DzSN_errors,label='SNe, M='+str(np.round(npar_chain.best_fit()['M'],decimals=2)),fmt='og',ms=5)\n",
    "ax1.set(ylim=(0,6000),yticks=[1000,3000,5000])\n",
    "ax1.legend()\n",
    "ax1.set(ylabel='$D_A(\\mathrm z)$ [Mpc]')\n",
    "ax1.yaxis.set_label_coords(-0.15,0.5)\n",
    "\n",
    "ax2.errorbar(zBAO,BAO_LCDMresiduals,yerr=DzBAO_errors/DzBAO_LCDMmodel,fmt='sr',ms=7)\n",
    "ax2.errorbar(zSN,SN_LCDMresiduals,yerr=DzSN_errors/DzSN_LCDMmodel,fmt='og',ms=5)\n",
    "\n",
    "ax2.plot(zgrid,Dz_nonpar_model/D_LCDMmodel-1,color='orange')\n",
    "\n",
    "ax2.axhline(y=0,color='b')\n",
    "ax2.set(ylabel='$\\Delta D(\\mathrm z)/D_{A,\\Lambda{\\mathrm CDM}}(\\mathrm z)$')\n",
    "ax2.set(ylim=(-.06,.06),yticks=[-.03,0.00,.03])\n",
    "ax2.set(xlim=(1.05e-2,2))\n",
    "ax2.yaxis.set_label_coords(-0.15,0.5)\n",
    "plt.xlabel('$\\mathrm z$')\n",
    "plt.xscale('log')\n",
    "plt.tight_layout()\n",
    "fig.subplots_adjust(hspace=0)\n",
    "plt.show()\n",
    "plt.savefig('D_z_lcdm_spline.pdf',pad_inches=.2)"
   ]
  },
  {
   "cell_type": "markdown",
   "metadata": {},
   "source": [
    "# H(z) for LCDM and spline models "
   ]
  },
  {
   "cell_type": "code",
   "execution_count": 14,
   "metadata": {},
   "outputs": [],
   "source": [
    "zgrid4H=np.arange(0,1,0.0001)\n",
    "Hvals_nonpar=np.array([H0*H_zspline(z) for z in zgrid4H])\n",
    "HvalsLCDM=np.array([H0/DA_z.H0_over_H(z) for z in zgrid4H])\n",
    "Hzdata=np.array([81.2087,90.9029,98.9647])*rfid/rs\n",
    "hco=BAO_dM_Hz_cov[1::2,1::2]\n",
    "Herrors=np.sqrt(np.diag(hco))\n",
    "Hguess=np.array([H_zspline(x) for x in 1/(1+zBAO)])\n",
    "Hresiduals=Hzdata/Hguess-1"
   ]
  },
  {
   "cell_type": "code",
   "execution_count": 23,
   "metadata": {},
   "outputs": [
    {
     "data": {
      "image/png": "[encoded data removed]",
      "text/plain": [
       "<matplotlib.figure.Figure at 0x7fc9a6237cc0>"
      ]
     },
     "metadata": {},
     "output_type": "display_data"
    }
   ],
   "source": [
    "fig, axes = plt.subplots(1,sharex=True)#,sharey=True)\n",
    "axes.plot(zgrid4H,HvalsLCDM,label='$\\Lambda$CDM',color='b')\n",
    "axes.plot(zgrid4H,Hvals_nonpar,label='Spline',color='orange')\n",
    "axes.errorbar(zBAO,Hzdata,yerr=Herrors*rfid/rs,marker='s',ms=7,fmt='sr',label='BAO, $r_s$='+str(np.round(npar_chain.best_fit()['rs'],decimals=2))+' Mpc')\n",
    "axes.errorbar(0,73.52,yerr=1.62,fmt='og',label='R18',ms=8)\n",
    "axes.legend(loc=4)\n",
    "axes.set_ylabel('H(z) [km/sec/Mpc]')\n",
    "axes.set_xlabel('z',size=15)\n",
    "axes.set_xlim((-0.01,1))\n",
    "axes.set_ylim((70,115))\n",
    "axes.set_xticks(np.arange(.1,1,.2))\n",
    "axes.set_yticks(range(75,115,10))\n",
    "fig.tight_layout()\n",
    "plt.show()\n",
    "fig.savefig('H_z_lcdm_spline.pdf',pad_inches=.2)"
   ]
  },
  {
   "cell_type": "code",
   "execution_count": null,
   "metadata": {},
   "outputs": [],
   "source": []
  },
  {
   "cell_type": "code",
   "execution_count": null,
   "metadata": {},
   "outputs": [],
   "source": []
  },
  {
   "cell_type": "code",
   "execution_count": null,
   "metadata": {},
   "outputs": [],
   "source": []
  }
 ],
 "metadata": {
  "kernelspec": {
   "display_name": "Python 3",
   "language": "python",
   "name": "python3"
  },
  "language_info": {
   "codemirror_mode": {
    "name": "ipython",
    "version": 3
   },
   "file_extension": ".py",
   "mimetype": "text/x-python",
   "name": "python",
   "nbconvert_exporter": "python",
   "pygments_lexer": "ipython3",
   "version": "3.4.3"
  }
 },
 "nbformat": 4,
 "nbformat_minor": 2
}
